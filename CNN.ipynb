{
  "nbformat": 4,
  "nbformat_minor": 0,
  "metadata": {
    "colab": {
      "provenance": [],
      "gpuType": "T4"
    },
    "kernelspec": {
      "name": "python3",
      "display_name": "Python 3"
    },
    "language_info": {
      "name": "python"
    },
    "accelerator": "GPU"
  },
  "cells": [
    {
      "cell_type": "code",
      "execution_count": 16,
      "metadata": {
        "id": "YXAoLwQQ0x7K"
      },
      "outputs": [],
      "source": [
        "import tensorflow as tf\n",
        "from tensorflow.keras.models import Sequential\n",
        "from tensorflow.keras.layers import Conv2D, MaxPooling2D, Flatten, Dense, Dropout\n",
        "from tensorflow.keras.preprocessing.image import ImageDataGenerator\n",
        "from tensorflow.keras.preprocessing import image\n",
        "import numpy as np\n",
        "\n",
        "\n"
      ]
    },
    {
      "cell_type": "code",
      "source": [
        "\n",
        "# Define the image size and number of classes\n",
        "IMAGE_SIZE = (224, 224)\n",
        "NUM_CLASSES = 10  # Replace with the number of classes in your dataset\n"
      ],
      "metadata": {
        "id": "WoInymCu1QV7"
      },
      "execution_count": 17,
      "outputs": []
    },
    {
      "cell_type": "code",
      "source": [
        "# Define the CNN model\n",
        "model = Sequential()\n",
        "\n",
        "# Convolutional layer 1\n",
        "model.add(Conv2D(32, (3, 3), input_shape=(IMAGE_SIZE[0], IMAGE_SIZE[1], 3), activation='relu'))\n",
        "model.add(MaxPooling2D(pool_size=(2, 2)))\n",
        "\n",
        "# Convolutional layer 2\n",
        "model.add(Conv2D(64, (3, 3), activation='relu'))\n",
        "model.add(MaxPooling2D(pool_size=(2, 2)))\n",
        "\n",
        "# Convolutional layer 3\n",
        "model.add(Conv2D(128, (3, 3), activation='relu'))\n",
        "model.add(MaxPooling2D(pool_size=(2, 2)))\n",
        "\n",
        "# Flatten the feature maps\n",
        "model.add(Flatten())\n",
        "\n",
        "# Fully connected layers\n",
        "model.add(Dense(256, activation='relu'))\n",
        "model.add(Dropout(0.5))\n",
        "\n",
        "# Output layer\n",
        "model.add(Dense(NUM_CLASSES, activation='softmax'))\n",
        "\n"
      ],
      "metadata": {
        "id": "3vPaJgP51UyI"
      },
      "execution_count": 18,
      "outputs": []
    },
    {
      "cell_type": "code",
      "source": [
        "\n",
        "# Compile the model\n",
        "model.compile(optimizer='adam', loss='categorical_crossentropy', metrics=['accuracy'])\n"
      ],
      "metadata": {
        "id": "TjO8aMyo1eap"
      },
      "execution_count": 19,
      "outputs": []
    },
    {
      "cell_type": "code",
      "source": [
        "\n",
        "# Data augmentation for training images\n",
        "train_datagen = ImageDataGenerator(\n",
        "    rescale=1./255,\n",
        "    shear_range=0.2,\n",
        "    zoom_range=0.2,\n",
        "    horizontal_flip=True)\n"
      ],
      "metadata": {
        "id": "wf_RNuib1i2G"
      },
      "execution_count": 20,
      "outputs": []
    },
    {
      "cell_type": "code",
      "source": [
        "\n",
        "# Validation data generator\n",
        "valid_datagen = ImageDataGenerator(rescale=1./255)\n"
      ],
      "metadata": {
        "id": "tReSqMcS1piX"
      },
      "execution_count": 21,
      "outputs": []
    },
    {
      "cell_type": "code",
      "source": [
        "\n",
        "# Train the model using the training dataset\n",
        "train_generator = train_datagen.flow_from_directory(\n",
        "    '/content/drive/MyDrive/New Plant Diseases Dataset(Augmented)/train',\n",
        "    target_size=IMAGE_SIZE,\n",
        "    batch_size=16,\n",
        "    class_mode='categorical')\n"
      ],
      "metadata": {
        "colab": {
          "base_uri": "https://localhost:8080/"
        },
        "id": "IRsoNlBj1sOl",
        "outputId": "641f6d6e-85c2-4543-f8d4-ca4a4cd3cc1d"
      },
      "execution_count": 22,
      "outputs": [
        {
          "output_type": "stream",
          "name": "stdout",
          "text": [
            "Found 18345 images belonging to 10 classes.\n"
          ]
        }
      ]
    },
    {
      "cell_type": "code",
      "source": [
        "# Save the trained model\n",
        "model.save('/content/drive/MyDrive/trained1_model.h5')"
      ],
      "metadata": {
        "colab": {
          "base_uri": "https://localhost:8080/"
        },
        "id": "vtCA5wlA15gc",
        "outputId": "cadb487e-adc4-4323-8008-3549feff1e3c"
      },
      "execution_count": 24,
      "outputs": [
        {
          "output_type": "stream",
          "name": "stderr",
          "text": [
            "/usr/local/lib/python3.10/dist-packages/keras/src/engine/training.py:3079: UserWarning: You are saving your model as an HDF5 file via `model.save()`. This file format is considered legacy. We recommend using instead the native Keras format, e.g. `model.save('my_model.keras')`.\n",
            "  saving_api.save_model(\n"
          ]
        }
      ]
    },
    {
      "cell_type": "code",
      "source": [
        "import tensorflow as tf\n",
        "from tensorflow.keras.models import load_model\n",
        "import matplotlib.pyplot as plt\n",
        "from sklearn.metrics import accuracy_score\n"
      ],
      "metadata": {
        "id": "mw77TA-RFjI9"
      },
      "execution_count": 9,
      "outputs": []
    },
    {
      "cell_type": "code",
      "source": [
        "\n",
        "# Load the trained model\n",
        "trained_model = load_model('/content/drive/MyDrive/trained1_model.h5')  # Load your trained model here\n"
      ],
      "metadata": {
        "id": "jl_59IebFvtd"
      },
      "execution_count": 14,
      "outputs": []
    },
    {
      "cell_type": "code",
      "source": [
        "def predict_image(image_path, model):\n",
        "    img = image.load_img(image_path, target_size=(224, 224))\n",
        "    x = image.img_to_array(img)\n",
        "    x = np.expand_dims(x, axis=0)\n",
        "    x = x / 255.0  # Normalize the image\n",
        "\n",
        "    # Make predictions\n",
        "    predictions = model.predict(x)\n",
        "\n",
        "    print(\"Raw predictions:\", predictions)  # Print raw prediction values\n",
        "\n",
        "    # Map predictions to class names\n",
        "    class_indices = {\n",
        "        0: 'Tomato___Bacterial_spot',\n",
        "        1: 'Tomato___Early_blight',\n",
        "        2: 'Tomato___Late_blight',\n",
        "        3: 'Tomato___Leaf_Mold',\n",
        "        4: 'Tomato___Septoria_leaf_spot',\n",
        "        5: 'Tomato___Spider_mites Two-spotted_spider_mite',\n",
        "        6: 'Tomato___Target_Spot',\n",
        "        7: 'Tomato___Tomato_Yellow_Leaf_Curl_Virus',\n",
        "        8: 'Tomato___Tomato_mosaic_virus',\n",
        "        9: 'Tomato___healthy'\n",
        "    }\n",
        "\n",
        "    predicted_class_index = np.argmax(predictions)\n",
        "    predicted_class = class_indices[predicted_class_index]\n",
        "    probability_score = predictions[0][predicted_class_index]\n",
        "\n",
        "    print(\"Predicted class index:\", predicted_class_index)\n",
        "    print(\"Predicted class:\", predicted_class)\n",
        "    print(\"Probability score:\", probability_score)\n",
        "\n",
        "    return predicted_class, probability_score\n",
        "    # Make predictions\n",
        "    predictions = model.predict(x)\n",
        "    predicted_class = class_indices[np.argmax(predictions)]\n",
        "\n",
        "    return predicted_class"
      ],
      "metadata": {
        "id": "PBOjLvtTqypU"
      },
      "execution_count": null,
      "outputs": []
    },
    {
      "cell_type": "code",
      "source": [
        "# Assuming you have already defined and loaded the 'trained_model'\n",
        "image_path_to_predict = \"/content/drive/MyDrive/New Plant Diseases Dataset(Augmented)/valid/Tomato___Tomato_mosaic_virus/006e354b-c054-4b72-a83c-e3feb038942e___PSU_CG 2330_newPixel25.JPG\"\n",
        "predicted_class = predict_image(image_path_to_predict, trained_model)\n",
        "print(\"Predicted class:\", predicted_class)\n"
      ],
      "metadata": {
        "colab": {
          "base_uri": "https://localhost:8080/"
        },
        "id": "vzGoPVUdrqzL",
        "outputId": "86381130-8b26-469d-ab9b-6478dfe42261"
      },
      "execution_count": null,
      "outputs": [
        {
          "output_type": "stream",
          "name": "stdout",
          "text": [
            "1/1 [==============================] - 0s 72ms/step\n",
            "Raw predictions: [[0.06658614 0.10852564 0.06764563 0.08612138 0.13348399 0.07610239\n",
            "  0.12213092 0.05371801 0.17596124 0.10972464]]\n",
            "Predicted class index: 8\n",
            "Predicted class: Tomato___Tomato_mosaic_virus\n",
            "Probability score: 0.17596124\n",
            "Predicted class: ('Tomato___Tomato_mosaic_virus', 0.17596124)\n"
          ]
        }
      ]
    },
    {
      "cell_type": "code",
      "source": [
        "# Assuming you have already defined and loaded the 'trained_model'\n",
        "image_path_to_predict = \"/content/drive/MyDrive/New Plant Diseases Dataset(Augmented)/train/Tomato___healthy/000146ff-92a4-4db6-90ad-8fce2ae4fddd___GH_HL Leaf 259.1.JPG\"\n",
        "predicted_class, probability_score = predict_image(image_path_to_predict, trained_model)\n",
        "print(\"Predicted class:\", predicted_class)\n",
        "print(\"Probability score:\", probability_score)\n"
      ],
      "metadata": {
        "colab": {
          "base_uri": "https://localhost:8080/"
        },
        "id": "8M0GJmFPhH7G",
        "outputId": "50fe6de5-bcf7-4c9c-f91b-6e4b31c08d45"
      },
      "execution_count": null,
      "outputs": [
        {
          "output_type": "stream",
          "name": "stdout",
          "text": [
            "1/1 [==============================] - 0s 19ms/step\n",
            "Raw predictions: [[0.08656985 0.10486568 0.08140105 0.09377144 0.1222311  0.085922\n",
            "  0.1063948  0.07938285 0.1304113  0.10904997]]\n",
            "Predicted class index: 8\n",
            "Predicted class: Tomato___Tomato_mosaic_virus\n",
            "Probability score: 0.1304113\n",
            "Predicted class: Tomato___Tomato_mosaic_virus\n",
            "Probability score: 0.1304113\n"
          ]
        }
      ]
    },
    {
      "cell_type": "code",
      "source": [],
      "metadata": {
        "id": "KSNdRFCdmJZS"
      },
      "execution_count": null,
      "outputs": []
    }
  ]
}